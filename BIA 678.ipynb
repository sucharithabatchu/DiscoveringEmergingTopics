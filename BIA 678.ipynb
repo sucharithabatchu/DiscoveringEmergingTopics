{
 "cells": [
  {
   "cell_type": "code",
   "execution_count": 1,
   "metadata": {},
   "outputs": [],
   "source": [
    "from pyspark.sql import SparkSession\n",
    "from pyspark import SparkConf, SparkContext\n",
    "import datetime\n",
    "from pyspark.ml import Pipeline\n",
    "\n",
    "spark = SparkSession.builder.master('local[1]').appName('learn_ml').getOrCreate()\n",
    "\n"
   ]
  },
  {
   "cell_type": "code",
   "execution_count": 2,
   "metadata": {},
   "outputs": [
    {
     "name": "stdout",
     "output_type": "stream",
     "text": [
      "\n",
      "Logistic Regression:  0.6104355056646918\n",
      "\n",
      "DecisionTree:  0.6567404635692755\n",
      "\n",
      "RandomForest:  0.6458788067768423\n",
      "\n",
      "GBT:  0.6746180230745245\n",
      "\n",
      " 0:01:14.525367\n"
     ]
    }
   ],
   "source": [
    "import matplotlib.pyplot as plt\n",
    "import numpy as np\n",
    "# 载入数据\n",
    "df0 = spark.read.csv('BIA 678 dataset.csv', header=True, inferSchema=True, encoding='utf-8')\n",
    "# 查看是否有缺失值\n",
    "# df0.toPandas().isna().sum()\n",
    "# df0.toPandas().isna().values.any()\n",
    "# False 没有缺失值\n",
    "\n",
    "starttime = datetime.datetime.now()\n",
    "\n",
    "# 先使用StringIndexer将字符转化为数值，然后将特征整合到一起\n",
    "from pyspark.ml.feature import StringIndexer, VectorAssembler\n",
    "old_columns_names = df0.columns\n",
    "new_columns_names = [name+'-new' for name in old_columns_names]\n",
    "for i in range(len(old_columns_names)):\n",
    "    indexer = StringIndexer(inputCol=old_columns_names[i], outputCol=new_columns_names[i])\n",
    "    df0 = indexer.fit(df0).transform(df0)\n",
    "vecAss = VectorAssembler(inputCols=new_columns_names[3:11], outputCol='features')\n",
    "df0 = vecAss.transform(df0)\n",
    "# 更换label列名\n",
    "df0 = df0.withColumnRenamed(new_columns_names[-1], 'label')\n",
    "\n",
    "# 创建新的只有label和features的表\n",
    "dfi = df0.select(['label', 'features'])\n",
    "\n",
    "# 数据概观\n",
    "# dfi.show(5, truncate=0)\n",
    "\n",
    "train_data, test_data = dfi.randomSplit([0.9, 0.1], seed=2019)\n",
    "\n",
    "\n",
    "from pyspark.ml.classification import LogisticRegression\n",
    "\n",
    "from pyspark.ml.classification import NaiveBayes\n",
    "lr = LogisticRegression()\n",
    "lrModel = lr.fit(train_data)\n",
    "result = lrModel.transform(test_data)\n",
    "\n",
    "#accuracy\n",
    "a = result.filter(result.label == result.prediction).count()/result.count()\n",
    "print('\\nLogistic Regression: ', a)\n",
    "\n",
    "from pyspark.ml.classification import DecisionTreeClassifier\n",
    "dt = DecisionTreeClassifier(maxDepth=5, maxBins=35)\n",
    "dtModel = dt.fit(train_data)\n",
    "result = dtModel.transform(test_data)\n",
    "\n",
    "# accuracy\n",
    "b = result.filter(result.label == result.prediction).count()/result.count()\n",
    "print('\\nDecisionTree: ', b)\n",
    "\n",
    "from pyspark.ml.classification import RandomForestClassifier\n",
    "rf = RandomForestClassifier(numTrees=10, maxDepth=5, maxBins=35)\n",
    "rfModel = rf.fit(train_data)\n",
    "result = rfModel.transform(test_data)\n",
    "\n",
    "# accuracy\n",
    "c = result.filter(result.label == result.prediction).count()/result.count()\n",
    "print('\\nRandomForest: ', c)\n",
    "\n",
    "from pyspark.ml.classification import GBTClassifier\n",
    "gbt = GBTClassifier(maxDepth=5, maxBins=35)\n",
    "gbtModel = gbt.fit(train_data)\n",
    "result = gbtModel.transform(test_data)\n",
    "\n",
    "# accuracy\n",
    "d = result.filter(result.label == result.prediction).count()/result.count()\n",
    "print('\\nGBT: ', d)\n",
    "\n",
    "endtime = datetime.datetime.now()\n",
    "print('\\n', endtime - starttime)\n"
   ]
  },
  {
   "cell_type": "code",
   "execution_count": null,
   "metadata": {},
   "outputs": [],
   "source": []
  },
  {
   "cell_type": "code",
   "execution_count": null,
   "metadata": {},
   "outputs": [],
   "source": []
  },
  {
   "cell_type": "code",
   "execution_count": null,
   "metadata": {},
   "outputs": [],
   "source": []
  },
  {
   "cell_type": "code",
   "execution_count": null,
   "metadata": {},
   "outputs": [],
   "source": []
  },
  {
   "cell_type": "code",
   "execution_count": null,
   "metadata": {},
   "outputs": [],
   "source": []
  },
  {
   "cell_type": "code",
   "execution_count": null,
   "metadata": {},
   "outputs": [],
   "source": []
  },
  {
   "cell_type": "code",
   "execution_count": null,
   "metadata": {},
   "outputs": [],
   "source": []
  },
  {
   "cell_type": "code",
   "execution_count": null,
   "metadata": {},
   "outputs": [],
   "source": []
  },
  {
   "cell_type": "code",
   "execution_count": null,
   "metadata": {},
   "outputs": [],
   "source": []
  },
  {
   "cell_type": "code",
   "execution_count": null,
   "metadata": {},
   "outputs": [],
   "source": []
  },
  {
   "cell_type": "code",
   "execution_count": null,
   "metadata": {},
   "outputs": [],
   "source": []
  },
  {
   "cell_type": "code",
   "execution_count": null,
   "metadata": {},
   "outputs": [],
   "source": []
  },
  {
   "cell_type": "code",
   "execution_count": null,
   "metadata": {},
   "outputs": [],
   "source": []
  }
 ],
 "metadata": {
  "kernelspec": {
   "display_name": "Python 3",
   "language": "python",
   "name": "python3"
  },
  "language_info": {
   "codemirror_mode": {
    "name": "ipython",
    "version": 3
   },
   "file_extension": ".py",
   "mimetype": "text/x-python",
   "name": "python",
   "nbconvert_exporter": "python",
   "pygments_lexer": "ipython3",
   "version": "3.7.3"
  }
 },
 "nbformat": 4,
 "nbformat_minor": 2
}
